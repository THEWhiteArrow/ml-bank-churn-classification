{
 "cells": [
  {
   "cell_type": "markdown",
   "metadata": {},
   "source": [
    "***IMPORTS***"
   ]
  },
  {
   "cell_type": "code",
   "execution_count": null,
   "metadata": {},
   "outputs": [],
   "source": [
    "import pandas as pd\n",
    "import matplotlib.pyplot as plt\n",
    "import seaborn as sns\n",
    "\n",
    "\n",
    "def show(*args):\n",
    "    \"\"\"A function that displays the arguments in a Jupyter notebook or prints them in a console depending on the environment.\"\"\"\n",
    "    try:\n",
    "        from IPython.display import display\n",
    "\n",
    "        display(*args)\n",
    "    except ImportError:\n",
    "        print(*args)"
   ]
  },
  {
   "cell_type": "markdown",
   "metadata": {},
   "source": [
    "***LOADING DATA***"
   ]
  },
  {
   "cell_type": "code",
   "execution_count": null,
   "metadata": {},
   "outputs": [],
   "source": [
    "try:\n",
    "    bank_data = pd.read_csv(\"./data/train.csv\")\n",
    "    bank_query = pd.read_csv(\"./data/test.csv\")\n",
    "except FileNotFoundError:\n",
    "    raise Exception(\n",
    "        \"Kaggle data files not found. Please download the data from https://www.kaggle.com/competitions/playground-series-s4e1/data and place them in the data folder.\"\n",
    "    )"
   ]
  },
  {
   "cell_type": "markdown",
   "metadata": {},
   "source": [
    "***EDA***"
   ]
  },
  {
   "cell_type": "code",
   "execution_count": null,
   "metadata": {},
   "outputs": [],
   "source": [
    "# --- DESCRIPTIONS ---\n",
    "show(bank_data.head())\n",
    "show(bank_data.describe())\n",
    "show(bank_data.info())\n",
    "\n",
    "show(bank_data.dtypes)\n",
    "\n",
    "# --- MISSING VALUES ---\n",
    "show(bank_data.isnull().sum())\n",
    "\n",
    "# --- EACH ROW DUPLICATES ---\n",
    "for col in bank_data.columns:\n",
    "    print(f\"{col}: {bank_data[bank_data.duplicated(subset=[col])].shape[0]}\")\n"
   ]
  },
  {
   "cell_type": "code",
   "execution_count": null,
   "metadata": {},
   "outputs": [],
   "source": [
    "# --- HISTOGRAPH ---\n",
    "n_columns = len(bank_data.columns)\n",
    "n_hist_columns = 3\n",
    "n_rows = -(-n_columns // n_hist_columns)  # Ceiling division to calculate number of rows\n",
    "\n",
    "\n",
    "fig, axes = plt.subplots(nrows=n_rows, ncols=n_hist_columns, figsize=(15, 5 * n_rows))\n",
    "if n_rows == 1:\n",
    "    axes = [axes]\n",
    "\n",
    "for i, col in enumerate(bank_data.columns):\n",
    "    ax = axes[i // n_hist_columns][i % n_hist_columns]\n",
    "    sns.histplot(bank_data[col], ax=ax)\n",
    "    ax.set_title(col)\n"
   ]
  },
  {
   "cell_type": "code",
   "execution_count": null,
   "metadata": {},
   "outputs": [],
   "source": [
    "# --- CORRELATION MATRIX ---\n",
    "plt.figure(figsize=(15, 15))\n",
    "sns.heatmap(pd.get_dummies(bank_data.drop(columns=[\"Surname\"])).corr(\"spearman\"), annot=True, vmax=1, vmin=-1, center=0)"
   ]
  }
 ],
 "metadata": {
  "kernelspec": {
   "display_name": "Python 3",
   "language": "python",
   "name": "python3"
  },
  "language_info": {
   "codemirror_mode": {
    "name": "ipython",
    "version": 3
   },
   "file_extension": ".py",
   "mimetype": "text/x-python",
   "name": "python",
   "nbconvert_exporter": "python",
   "pygments_lexer": "ipython3",
   "version": "3.12.3"
  }
 },
 "nbformat": 4,
 "nbformat_minor": 2
}
